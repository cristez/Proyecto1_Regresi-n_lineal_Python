{
  "nbformat": 4,
  "nbformat_minor": 0,
  "metadata": {
    "colab": {
      "provenance": []
    },
    "kernelspec": {
      "name": "python3",
      "display_name": "Python 3"
    },
    "language_info": {
      "name": "python"
    }
  },
  "cells": [
    {
      "cell_type": "markdown",
      "source": [
        "##***Introducción***##\n",
        "\n",
        "En este proyecto  se pretende utilizar el algoritmo de descenso por gradiente para manifiestar es para practicar regresión lineal.\n"
      ],
      "metadata": {
        "id": "GpGw_24PYA-c"
      }
    },
    {
      "cell_type": "markdown",
      "source": [
        "#Importando librerias necesarias#"
      ],
      "metadata": {
        "id": "_g15w3otbRV0"
      }
    },
    {
      "cell_type": "code",
      "source": [
        "import numpy as np\n",
        "import pandas as pd\n",
        "import seaborn as sns\n",
        "import matplotlib.pyplot as plt\n",
        "%matplotlib inline\n"
      ],
      "metadata": {
        "id": "RZAgbn8vbfGC"
      },
      "execution_count": 1,
      "outputs": []
    },
    {
      "cell_type": "markdown",
      "source": [
        "#Cargando los Datos  y Renombrando Columnas#"
      ],
      "metadata": {
        "id": "tBi7X-abbMdf"
      }
    },
    {
      "cell_type": "markdown",
      "source": [
        "Cargando los datos a un array con Numpy"
      ],
      "metadata": {
        "id": "zTz--avMaBCg"
      }
    },
    {
      "cell_type": "code",
      "source": [
        "data_array = np.load(\"/content/proyecto_training_data.npy\")\n",
        "#Recordar cambiar esto."
      ],
      "metadata": {
        "id": "o7-Fbw5Eb0GT"
      },
      "execution_count": 3,
      "outputs": []
    },
    {
      "cell_type": "markdown",
      "source": [
        "Cargando los datos a un DataFrame con Pandas para mayor facilidad en la manipulación de datos."
      ],
      "metadata": {
        "id": "26oUqgFqZ7qR"
      }
    },
    {
      "cell_type": "code",
      "source": [
        "data= pd.DataFrame(data_array)\n",
        "data.head()\n"
      ],
      "metadata": {
        "colab": {
          "base_uri": "https://localhost:8080/",
          "height": 206
        },
        "id": "QnRzypT_b89D",
        "outputId": "fda4ebf1-55f7-47da-be92-317843d7c290"
      },
      "execution_count": 28,
      "outputs": [
        {
          "output_type": "execute_result",
          "data": {
            "text/plain": [
              "          0    1       2    3       4     5\n",
              "0  208500.0  7.0   856.0  8.0  2003.0  65.0\n",
              "1  181500.0  6.0  1262.0  6.0  1976.0  80.0\n",
              "2  223500.0  7.0   920.0  6.0  2001.0  68.0\n",
              "3  140000.0  7.0   961.0  7.0  1915.0  60.0\n",
              "4  250000.0  8.0  1145.0  9.0  2000.0  84.0"
            ],
            "text/html": [
              "\n",
              "  <div id=\"df-99835b62-3231-48da-899f-cafcfeadbb01\">\n",
              "    <div class=\"colab-df-container\">\n",
              "      <div>\n",
              "<style scoped>\n",
              "    .dataframe tbody tr th:only-of-type {\n",
              "        vertical-align: middle;\n",
              "    }\n",
              "\n",
              "    .dataframe tbody tr th {\n",
              "        vertical-align: top;\n",
              "    }\n",
              "\n",
              "    .dataframe thead th {\n",
              "        text-align: right;\n",
              "    }\n",
              "</style>\n",
              "<table border=\"1\" class=\"dataframe\">\n",
              "  <thead>\n",
              "    <tr style=\"text-align: right;\">\n",
              "      <th></th>\n",
              "      <th>0</th>\n",
              "      <th>1</th>\n",
              "      <th>2</th>\n",
              "      <th>3</th>\n",
              "      <th>4</th>\n",
              "      <th>5</th>\n",
              "    </tr>\n",
              "  </thead>\n",
              "  <tbody>\n",
              "    <tr>\n",
              "      <th>0</th>\n",
              "      <td>208500.0</td>\n",
              "      <td>7.0</td>\n",
              "      <td>856.0</td>\n",
              "      <td>8.0</td>\n",
              "      <td>2003.0</td>\n",
              "      <td>65.0</td>\n",
              "    </tr>\n",
              "    <tr>\n",
              "      <th>1</th>\n",
              "      <td>181500.0</td>\n",
              "      <td>6.0</td>\n",
              "      <td>1262.0</td>\n",
              "      <td>6.0</td>\n",
              "      <td>1976.0</td>\n",
              "      <td>80.0</td>\n",
              "    </tr>\n",
              "    <tr>\n",
              "      <th>2</th>\n",
              "      <td>223500.0</td>\n",
              "      <td>7.0</td>\n",
              "      <td>920.0</td>\n",
              "      <td>6.0</td>\n",
              "      <td>2001.0</td>\n",
              "      <td>68.0</td>\n",
              "    </tr>\n",
              "    <tr>\n",
              "      <th>3</th>\n",
              "      <td>140000.0</td>\n",
              "      <td>7.0</td>\n",
              "      <td>961.0</td>\n",
              "      <td>7.0</td>\n",
              "      <td>1915.0</td>\n",
              "      <td>60.0</td>\n",
              "    </tr>\n",
              "    <tr>\n",
              "      <th>4</th>\n",
              "      <td>250000.0</td>\n",
              "      <td>8.0</td>\n",
              "      <td>1145.0</td>\n",
              "      <td>9.0</td>\n",
              "      <td>2000.0</td>\n",
              "      <td>84.0</td>\n",
              "    </tr>\n",
              "  </tbody>\n",
              "</table>\n",
              "</div>\n",
              "      <button class=\"colab-df-convert\" onclick=\"convertToInteractive('df-99835b62-3231-48da-899f-cafcfeadbb01')\"\n",
              "              title=\"Convert this dataframe to an interactive table.\"\n",
              "              style=\"display:none;\">\n",
              "        \n",
              "  <svg xmlns=\"http://www.w3.org/2000/svg\" height=\"24px\"viewBox=\"0 0 24 24\"\n",
              "       width=\"24px\">\n",
              "    <path d=\"M0 0h24v24H0V0z\" fill=\"none\"/>\n",
              "    <path d=\"M18.56 5.44l.94 2.06.94-2.06 2.06-.94-2.06-.94-.94-2.06-.94 2.06-2.06.94zm-11 1L8.5 8.5l.94-2.06 2.06-.94-2.06-.94L8.5 2.5l-.94 2.06-2.06.94zm10 10l.94 2.06.94-2.06 2.06-.94-2.06-.94-.94-2.06-.94 2.06-2.06.94z\"/><path d=\"M17.41 7.96l-1.37-1.37c-.4-.4-.92-.59-1.43-.59-.52 0-1.04.2-1.43.59L10.3 9.45l-7.72 7.72c-.78.78-.78 2.05 0 2.83L4 21.41c.39.39.9.59 1.41.59.51 0 1.02-.2 1.41-.59l7.78-7.78 2.81-2.81c.8-.78.8-2.07 0-2.86zM5.41 20L4 18.59l7.72-7.72 1.47 1.35L5.41 20z\"/>\n",
              "  </svg>\n",
              "      </button>\n",
              "      \n",
              "  <style>\n",
              "    .colab-df-container {\n",
              "      display:flex;\n",
              "      flex-wrap:wrap;\n",
              "      gap: 12px;\n",
              "    }\n",
              "\n",
              "    .colab-df-convert {\n",
              "      background-color: #E8F0FE;\n",
              "      border: none;\n",
              "      border-radius: 50%;\n",
              "      cursor: pointer;\n",
              "      display: none;\n",
              "      fill: #1967D2;\n",
              "      height: 32px;\n",
              "      padding: 0 0 0 0;\n",
              "      width: 32px;\n",
              "    }\n",
              "\n",
              "    .colab-df-convert:hover {\n",
              "      background-color: #E2EBFA;\n",
              "      box-shadow: 0px 1px 2px rgba(60, 64, 67, 0.3), 0px 1px 3px 1px rgba(60, 64, 67, 0.15);\n",
              "      fill: #174EA6;\n",
              "    }\n",
              "\n",
              "    [theme=dark] .colab-df-convert {\n",
              "      background-color: #3B4455;\n",
              "      fill: #D2E3FC;\n",
              "    }\n",
              "\n",
              "    [theme=dark] .colab-df-convert:hover {\n",
              "      background-color: #434B5C;\n",
              "      box-shadow: 0px 1px 3px 1px rgba(0, 0, 0, 0.15);\n",
              "      filter: drop-shadow(0px 1px 2px rgba(0, 0, 0, 0.3));\n",
              "      fill: #FFFFFF;\n",
              "    }\n",
              "  </style>\n",
              "\n",
              "      <script>\n",
              "        const buttonEl =\n",
              "          document.querySelector('#df-99835b62-3231-48da-899f-cafcfeadbb01 button.colab-df-convert');\n",
              "        buttonEl.style.display =\n",
              "          google.colab.kernel.accessAllowed ? 'block' : 'none';\n",
              "\n",
              "        async function convertToInteractive(key) {\n",
              "          const element = document.querySelector('#df-99835b62-3231-48da-899f-cafcfeadbb01');\n",
              "          const dataTable =\n",
              "            await google.colab.kernel.invokeFunction('convertToInteractive',\n",
              "                                                     [key], {});\n",
              "          if (!dataTable) return;\n",
              "\n",
              "          const docLinkHtml = 'Like what you see? Visit the ' +\n",
              "            '<a target=\"_blank\" href=https://colab.research.google.com/notebooks/data_table.ipynb>data table notebook</a>'\n",
              "            + ' to learn more about interactive tables.';\n",
              "          element.innerHTML = '';\n",
              "          dataTable['output_type'] = 'display_data';\n",
              "          await google.colab.output.renderOutput(dataTable, element);\n",
              "          const docLink = document.createElement('div');\n",
              "          docLink.innerHTML = docLinkHtml;\n",
              "          element.appendChild(docLink);\n",
              "        }\n",
              "      </script>\n",
              "    </div>\n",
              "  </div>\n",
              "  "
            ]
          },
          "metadata": {},
          "execution_count": 28
        }
      ]
    },
    {
      "cell_type": "markdown",
      "source": [
        "Renombrando las columnas para mejor entendimiento de los tados:"
      ],
      "metadata": {
        "id": "12UrfyfSUbxG"
      }
    },
    {
      "cell_type": "code",
      "source": [
        "data.columns = [\"Sale Price\",\"Overall-Quality\", \"1stFlrSF\", \"TotRmsAbvGrd\",\"YearBuilt\",\"LotFrontage\"]\n",
        "data.head()\n"
      ],
      "metadata": {
        "colab": {
          "base_uri": "https://localhost:8080/",
          "height": 206
        },
        "id": "iBq139riUgHn",
        "outputId": "3ee9ddd1-d227-4d26-f3c0-82c3fbddf2ee"
      },
      "execution_count": 29,
      "outputs": [
        {
          "output_type": "execute_result",
          "data": {
            "text/plain": [
              "   Sale Price  Overall-Quality  1stFlrSF  TotRmsAbvGrd  YearBuilt  LotFrontage\n",
              "0    208500.0              7.0     856.0           8.0     2003.0         65.0\n",
              "1    181500.0              6.0    1262.0           6.0     1976.0         80.0\n",
              "2    223500.0              7.0     920.0           6.0     2001.0         68.0\n",
              "3    140000.0              7.0     961.0           7.0     1915.0         60.0\n",
              "4    250000.0              8.0    1145.0           9.0     2000.0         84.0"
            ],
            "text/html": [
              "\n",
              "  <div id=\"df-78d55023-867d-46c3-bcea-9b4ffd530659\">\n",
              "    <div class=\"colab-df-container\">\n",
              "      <div>\n",
              "<style scoped>\n",
              "    .dataframe tbody tr th:only-of-type {\n",
              "        vertical-align: middle;\n",
              "    }\n",
              "\n",
              "    .dataframe tbody tr th {\n",
              "        vertical-align: top;\n",
              "    }\n",
              "\n",
              "    .dataframe thead th {\n",
              "        text-align: right;\n",
              "    }\n",
              "</style>\n",
              "<table border=\"1\" class=\"dataframe\">\n",
              "  <thead>\n",
              "    <tr style=\"text-align: right;\">\n",
              "      <th></th>\n",
              "      <th>Sale Price</th>\n",
              "      <th>Overall-Quality</th>\n",
              "      <th>1stFlrSF</th>\n",
              "      <th>TotRmsAbvGrd</th>\n",
              "      <th>YearBuilt</th>\n",
              "      <th>LotFrontage</th>\n",
              "    </tr>\n",
              "  </thead>\n",
              "  <tbody>\n",
              "    <tr>\n",
              "      <th>0</th>\n",
              "      <td>208500.0</td>\n",
              "      <td>7.0</td>\n",
              "      <td>856.0</td>\n",
              "      <td>8.0</td>\n",
              "      <td>2003.0</td>\n",
              "      <td>65.0</td>\n",
              "    </tr>\n",
              "    <tr>\n",
              "      <th>1</th>\n",
              "      <td>181500.0</td>\n",
              "      <td>6.0</td>\n",
              "      <td>1262.0</td>\n",
              "      <td>6.0</td>\n",
              "      <td>1976.0</td>\n",
              "      <td>80.0</td>\n",
              "    </tr>\n",
              "    <tr>\n",
              "      <th>2</th>\n",
              "      <td>223500.0</td>\n",
              "      <td>7.0</td>\n",
              "      <td>920.0</td>\n",
              "      <td>6.0</td>\n",
              "      <td>2001.0</td>\n",
              "      <td>68.0</td>\n",
              "    </tr>\n",
              "    <tr>\n",
              "      <th>3</th>\n",
              "      <td>140000.0</td>\n",
              "      <td>7.0</td>\n",
              "      <td>961.0</td>\n",
              "      <td>7.0</td>\n",
              "      <td>1915.0</td>\n",
              "      <td>60.0</td>\n",
              "    </tr>\n",
              "    <tr>\n",
              "      <th>4</th>\n",
              "      <td>250000.0</td>\n",
              "      <td>8.0</td>\n",
              "      <td>1145.0</td>\n",
              "      <td>9.0</td>\n",
              "      <td>2000.0</td>\n",
              "      <td>84.0</td>\n",
              "    </tr>\n",
              "  </tbody>\n",
              "</table>\n",
              "</div>\n",
              "      <button class=\"colab-df-convert\" onclick=\"convertToInteractive('df-78d55023-867d-46c3-bcea-9b4ffd530659')\"\n",
              "              title=\"Convert this dataframe to an interactive table.\"\n",
              "              style=\"display:none;\">\n",
              "        \n",
              "  <svg xmlns=\"http://www.w3.org/2000/svg\" height=\"24px\"viewBox=\"0 0 24 24\"\n",
              "       width=\"24px\">\n",
              "    <path d=\"M0 0h24v24H0V0z\" fill=\"none\"/>\n",
              "    <path d=\"M18.56 5.44l.94 2.06.94-2.06 2.06-.94-2.06-.94-.94-2.06-.94 2.06-2.06.94zm-11 1L8.5 8.5l.94-2.06 2.06-.94-2.06-.94L8.5 2.5l-.94 2.06-2.06.94zm10 10l.94 2.06.94-2.06 2.06-.94-2.06-.94-.94-2.06-.94 2.06-2.06.94z\"/><path d=\"M17.41 7.96l-1.37-1.37c-.4-.4-.92-.59-1.43-.59-.52 0-1.04.2-1.43.59L10.3 9.45l-7.72 7.72c-.78.78-.78 2.05 0 2.83L4 21.41c.39.39.9.59 1.41.59.51 0 1.02-.2 1.41-.59l7.78-7.78 2.81-2.81c.8-.78.8-2.07 0-2.86zM5.41 20L4 18.59l7.72-7.72 1.47 1.35L5.41 20z\"/>\n",
              "  </svg>\n",
              "      </button>\n",
              "      \n",
              "  <style>\n",
              "    .colab-df-container {\n",
              "      display:flex;\n",
              "      flex-wrap:wrap;\n",
              "      gap: 12px;\n",
              "    }\n",
              "\n",
              "    .colab-df-convert {\n",
              "      background-color: #E8F0FE;\n",
              "      border: none;\n",
              "      border-radius: 50%;\n",
              "      cursor: pointer;\n",
              "      display: none;\n",
              "      fill: #1967D2;\n",
              "      height: 32px;\n",
              "      padding: 0 0 0 0;\n",
              "      width: 32px;\n",
              "    }\n",
              "\n",
              "    .colab-df-convert:hover {\n",
              "      background-color: #E2EBFA;\n",
              "      box-shadow: 0px 1px 2px rgba(60, 64, 67, 0.3), 0px 1px 3px 1px rgba(60, 64, 67, 0.15);\n",
              "      fill: #174EA6;\n",
              "    }\n",
              "\n",
              "    [theme=dark] .colab-df-convert {\n",
              "      background-color: #3B4455;\n",
              "      fill: #D2E3FC;\n",
              "    }\n",
              "\n",
              "    [theme=dark] .colab-df-convert:hover {\n",
              "      background-color: #434B5C;\n",
              "      box-shadow: 0px 1px 3px 1px rgba(0, 0, 0, 0.15);\n",
              "      filter: drop-shadow(0px 1px 2px rgba(0, 0, 0, 0.3));\n",
              "      fill: #FFFFFF;\n",
              "    }\n",
              "  </style>\n",
              "\n",
              "      <script>\n",
              "        const buttonEl =\n",
              "          document.querySelector('#df-78d55023-867d-46c3-bcea-9b4ffd530659 button.colab-df-convert');\n",
              "        buttonEl.style.display =\n",
              "          google.colab.kernel.accessAllowed ? 'block' : 'none';\n",
              "\n",
              "        async function convertToInteractive(key) {\n",
              "          const element = document.querySelector('#df-78d55023-867d-46c3-bcea-9b4ffd530659');\n",
              "          const dataTable =\n",
              "            await google.colab.kernel.invokeFunction('convertToInteractive',\n",
              "                                                     [key], {});\n",
              "          if (!dataTable) return;\n",
              "\n",
              "          const docLinkHtml = 'Like what you see? Visit the ' +\n",
              "            '<a target=\"_blank\" href=https://colab.research.google.com/notebooks/data_table.ipynb>data table notebook</a>'\n",
              "            + ' to learn more about interactive tables.';\n",
              "          element.innerHTML = '';\n",
              "          dataTable['output_type'] = 'display_data';\n",
              "          await google.colab.output.renderOutput(dataTable, element);\n",
              "          const docLink = document.createElement('div');\n",
              "          docLink.innerHTML = docLinkHtml;\n",
              "          element.appendChild(docLink);\n",
              "        }\n",
              "      </script>\n",
              "    </div>\n",
              "  </div>\n",
              "  "
            ]
          },
          "metadata": {},
          "execution_count": 29
        }
      ]
    },
    {
      "cell_type": "markdown",
      "source": [
        "#Dividiendo los datos de entrenamiento y de testing."
      ],
      "metadata": {
        "id": "5wS7soD2ado1"
      }
    },
    {
      "cell_type": "markdown",
      "source": [
        "El set es dividido en 2 partes. El data_train representa los datos a entrenar y el data_test representa los datos para validar nuestro algoritmo."
      ],
      "metadata": {
        "id": "ba1yjPzHcUXS"
      }
    },
    {
      "cell_type": "code",
      "source": [
        "n=len(data)   #Número de registros en el dataSet\n",
        "data['Train'] = np.random.uniform(0,1,n) <=0.8 #Create a column to assign a number randomly to 80% of data.\n",
        "data_train, data_test=data[data['Train'] ==True], data[data['Train'] ==False]   #dividiendo el dataSet.\n",
        "print(f\"Registros de entrenamiento: {len(data_train)} \\nRegistros para Testeo: {len(data_test)} \\n\")\n",
        "del data['Train']\n",
        "del data_train['Train']\n",
        "del data_test['Train']\n",
        "\n"
      ],
      "metadata": {
        "colab": {
          "base_uri": "https://localhost:8080/"
        },
        "id": "FYb-NxJ3a8sE",
        "outputId": "04f540b4-51c1-47d6-8fe1-1a1786a32d9a"
      },
      "execution_count": 33,
      "outputs": [
        {
          "output_type": "stream",
          "name": "stdout",
          "text": [
            "Registros de entrenamiento: 1172 \n",
            "Registros para Testeo: 288 \n",
            "\n"
          ]
        }
      ]
    },
    {
      "cell_type": "markdown",
      "source": [
        "#Analisis Exploratorio de Datos"
      ],
      "metadata": {
        "id": "2AcnxVdrcoGq"
      }
    },
    {
      "cell_type": "markdown",
      "source": [
        "Los números para describir los datos son presentados en una tabla usando pandas. "
      ],
      "metadata": {
        "id": "orp2AYS6gEAH"
      }
    },
    {
      "cell_type": "code",
      "source": [
        "data_train.head()"
      ],
      "metadata": {
        "colab": {
          "base_uri": "https://localhost:8080/",
          "height": 206
        },
        "id": "ZYkgd-se_OoQ",
        "outputId": "910157f0-545b-4a7a-b66c-29172be359d3"
      },
      "execution_count": 34,
      "outputs": [
        {
          "output_type": "execute_result",
          "data": {
            "text/plain": [
              "   Sale Price  Overall-Quality  1stFlrSF  TotRmsAbvGrd  YearBuilt  LotFrontage\n",
              "0    208500.0              7.0     856.0           8.0     2003.0         65.0\n",
              "1    181500.0              6.0    1262.0           6.0     1976.0         80.0\n",
              "2    223500.0              7.0     920.0           6.0     2001.0         68.0\n",
              "4    250000.0              8.0    1145.0           9.0     2000.0         84.0\n",
              "5    143000.0              5.0     796.0           5.0     1993.0         85.0"
            ],
            "text/html": [
              "\n",
              "  <div id=\"df-d1d68f6d-2d7f-491a-b381-220d0b77e7d9\">\n",
              "    <div class=\"colab-df-container\">\n",
              "      <div>\n",
              "<style scoped>\n",
              "    .dataframe tbody tr th:only-of-type {\n",
              "        vertical-align: middle;\n",
              "    }\n",
              "\n",
              "    .dataframe tbody tr th {\n",
              "        vertical-align: top;\n",
              "    }\n",
              "\n",
              "    .dataframe thead th {\n",
              "        text-align: right;\n",
              "    }\n",
              "</style>\n",
              "<table border=\"1\" class=\"dataframe\">\n",
              "  <thead>\n",
              "    <tr style=\"text-align: right;\">\n",
              "      <th></th>\n",
              "      <th>Sale Price</th>\n",
              "      <th>Overall-Quality</th>\n",
              "      <th>1stFlrSF</th>\n",
              "      <th>TotRmsAbvGrd</th>\n",
              "      <th>YearBuilt</th>\n",
              "      <th>LotFrontage</th>\n",
              "    </tr>\n",
              "  </thead>\n",
              "  <tbody>\n",
              "    <tr>\n",
              "      <th>0</th>\n",
              "      <td>208500.0</td>\n",
              "      <td>7.0</td>\n",
              "      <td>856.0</td>\n",
              "      <td>8.0</td>\n",
              "      <td>2003.0</td>\n",
              "      <td>65.0</td>\n",
              "    </tr>\n",
              "    <tr>\n",
              "      <th>1</th>\n",
              "      <td>181500.0</td>\n",
              "      <td>6.0</td>\n",
              "      <td>1262.0</td>\n",
              "      <td>6.0</td>\n",
              "      <td>1976.0</td>\n",
              "      <td>80.0</td>\n",
              "    </tr>\n",
              "    <tr>\n",
              "      <th>2</th>\n",
              "      <td>223500.0</td>\n",
              "      <td>7.0</td>\n",
              "      <td>920.0</td>\n",
              "      <td>6.0</td>\n",
              "      <td>2001.0</td>\n",
              "      <td>68.0</td>\n",
              "    </tr>\n",
              "    <tr>\n",
              "      <th>4</th>\n",
              "      <td>250000.0</td>\n",
              "      <td>8.0</td>\n",
              "      <td>1145.0</td>\n",
              "      <td>9.0</td>\n",
              "      <td>2000.0</td>\n",
              "      <td>84.0</td>\n",
              "    </tr>\n",
              "    <tr>\n",
              "      <th>5</th>\n",
              "      <td>143000.0</td>\n",
              "      <td>5.0</td>\n",
              "      <td>796.0</td>\n",
              "      <td>5.0</td>\n",
              "      <td>1993.0</td>\n",
              "      <td>85.0</td>\n",
              "    </tr>\n",
              "  </tbody>\n",
              "</table>\n",
              "</div>\n",
              "      <button class=\"colab-df-convert\" onclick=\"convertToInteractive('df-d1d68f6d-2d7f-491a-b381-220d0b77e7d9')\"\n",
              "              title=\"Convert this dataframe to an interactive table.\"\n",
              "              style=\"display:none;\">\n",
              "        \n",
              "  <svg xmlns=\"http://www.w3.org/2000/svg\" height=\"24px\"viewBox=\"0 0 24 24\"\n",
              "       width=\"24px\">\n",
              "    <path d=\"M0 0h24v24H0V0z\" fill=\"none\"/>\n",
              "    <path d=\"M18.56 5.44l.94 2.06.94-2.06 2.06-.94-2.06-.94-.94-2.06-.94 2.06-2.06.94zm-11 1L8.5 8.5l.94-2.06 2.06-.94-2.06-.94L8.5 2.5l-.94 2.06-2.06.94zm10 10l.94 2.06.94-2.06 2.06-.94-2.06-.94-.94-2.06-.94 2.06-2.06.94z\"/><path d=\"M17.41 7.96l-1.37-1.37c-.4-.4-.92-.59-1.43-.59-.52 0-1.04.2-1.43.59L10.3 9.45l-7.72 7.72c-.78.78-.78 2.05 0 2.83L4 21.41c.39.39.9.59 1.41.59.51 0 1.02-.2 1.41-.59l7.78-7.78 2.81-2.81c.8-.78.8-2.07 0-2.86zM5.41 20L4 18.59l7.72-7.72 1.47 1.35L5.41 20z\"/>\n",
              "  </svg>\n",
              "      </button>\n",
              "      \n",
              "  <style>\n",
              "    .colab-df-container {\n",
              "      display:flex;\n",
              "      flex-wrap:wrap;\n",
              "      gap: 12px;\n",
              "    }\n",
              "\n",
              "    .colab-df-convert {\n",
              "      background-color: #E8F0FE;\n",
              "      border: none;\n",
              "      border-radius: 50%;\n",
              "      cursor: pointer;\n",
              "      display: none;\n",
              "      fill: #1967D2;\n",
              "      height: 32px;\n",
              "      padding: 0 0 0 0;\n",
              "      width: 32px;\n",
              "    }\n",
              "\n",
              "    .colab-df-convert:hover {\n",
              "      background-color: #E2EBFA;\n",
              "      box-shadow: 0px 1px 2px rgba(60, 64, 67, 0.3), 0px 1px 3px 1px rgba(60, 64, 67, 0.15);\n",
              "      fill: #174EA6;\n",
              "    }\n",
              "\n",
              "    [theme=dark] .colab-df-convert {\n",
              "      background-color: #3B4455;\n",
              "      fill: #D2E3FC;\n",
              "    }\n",
              "\n",
              "    [theme=dark] .colab-df-convert:hover {\n",
              "      background-color: #434B5C;\n",
              "      box-shadow: 0px 1px 3px 1px rgba(0, 0, 0, 0.15);\n",
              "      filter: drop-shadow(0px 1px 2px rgba(0, 0, 0, 0.3));\n",
              "      fill: #FFFFFF;\n",
              "    }\n",
              "  </style>\n",
              "\n",
              "      <script>\n",
              "        const buttonEl =\n",
              "          document.querySelector('#df-d1d68f6d-2d7f-491a-b381-220d0b77e7d9 button.colab-df-convert');\n",
              "        buttonEl.style.display =\n",
              "          google.colab.kernel.accessAllowed ? 'block' : 'none';\n",
              "\n",
              "        async function convertToInteractive(key) {\n",
              "          const element = document.querySelector('#df-d1d68f6d-2d7f-491a-b381-220d0b77e7d9');\n",
              "          const dataTable =\n",
              "            await google.colab.kernel.invokeFunction('convertToInteractive',\n",
              "                                                     [key], {});\n",
              "          if (!dataTable) return;\n",
              "\n",
              "          const docLinkHtml = 'Like what you see? Visit the ' +\n",
              "            '<a target=\"_blank\" href=https://colab.research.google.com/notebooks/data_table.ipynb>data table notebook</a>'\n",
              "            + ' to learn more about interactive tables.';\n",
              "          element.innerHTML = '';\n",
              "          dataTable['output_type'] = 'display_data';\n",
              "          await google.colab.output.renderOutput(dataTable, element);\n",
              "          const docLink = document.createElement('div');\n",
              "          docLink.innerHTML = docLinkHtml;\n",
              "          element.appendChild(docLink);\n",
              "        }\n",
              "      </script>\n",
              "    </div>\n",
              "  </div>\n",
              "  "
            ]
          },
          "metadata": {},
          "execution_count": 34
        }
      ]
    },
    {
      "cell_type": "code",
      "source": [
        "AED = {\"Media\":data_train.mean(), \"Valor Máximo\": data_train.max(), \"Valor Minimo\": data_train.min(), \"Rango\": data_train.max()-data_train.min(), \"Desviación Standar\": data_train.std()}\n",
        "pd.DataFrame(AED)"
      ],
      "metadata": {
        "colab": {
          "base_uri": "https://localhost:8080/",
          "height": 238
        },
        "id": "IqbM-rhEeCLP",
        "outputId": "43668dc4-4d7b-4682-a62b-bf7931f28c1b"
      },
      "execution_count": 35,
      "outputs": [
        {
          "output_type": "execute_result",
          "data": {
            "text/plain": [
              "                         Media  Valor Máximo  Valor Minimo     Rango  \\\n",
              "Sale Price       179918.000853      755000.0       34900.0  720100.0   \n",
              "Overall-Quality       6.089590          10.0           1.0       9.0   \n",
              "1stFlrSF           1164.525597        4692.0         334.0    4358.0   \n",
              "TotRmsAbvGrd          6.509386          12.0           2.0      10.0   \n",
              "YearBuilt          1970.789249        2010.0        1872.0     138.0   \n",
              "LotFrontage          69.954918         313.0          21.0     292.0   \n",
              "\n",
              "                 Desviación Standar  \n",
              "Sale Price             81103.369264  \n",
              "Overall-Quality            1.400132  \n",
              "1stFlrSF                 389.695465  \n",
              "TotRmsAbvGrd               1.624139  \n",
              "YearBuilt                 30.412520  \n",
              "LotFrontage               24.878495  "
            ],
            "text/html": [
              "\n",
              "  <div id=\"df-098a668c-1cb4-4cb0-a31b-2747d65b765b\">\n",
              "    <div class=\"colab-df-container\">\n",
              "      <div>\n",
              "<style scoped>\n",
              "    .dataframe tbody tr th:only-of-type {\n",
              "        vertical-align: middle;\n",
              "    }\n",
              "\n",
              "    .dataframe tbody tr th {\n",
              "        vertical-align: top;\n",
              "    }\n",
              "\n",
              "    .dataframe thead th {\n",
              "        text-align: right;\n",
              "    }\n",
              "</style>\n",
              "<table border=\"1\" class=\"dataframe\">\n",
              "  <thead>\n",
              "    <tr style=\"text-align: right;\">\n",
              "      <th></th>\n",
              "      <th>Media</th>\n",
              "      <th>Valor Máximo</th>\n",
              "      <th>Valor Minimo</th>\n",
              "      <th>Rango</th>\n",
              "      <th>Desviación Standar</th>\n",
              "    </tr>\n",
              "  </thead>\n",
              "  <tbody>\n",
              "    <tr>\n",
              "      <th>Sale Price</th>\n",
              "      <td>179918.000853</td>\n",
              "      <td>755000.0</td>\n",
              "      <td>34900.0</td>\n",
              "      <td>720100.0</td>\n",
              "      <td>81103.369264</td>\n",
              "    </tr>\n",
              "    <tr>\n",
              "      <th>Overall-Quality</th>\n",
              "      <td>6.089590</td>\n",
              "      <td>10.0</td>\n",
              "      <td>1.0</td>\n",
              "      <td>9.0</td>\n",
              "      <td>1.400132</td>\n",
              "    </tr>\n",
              "    <tr>\n",
              "      <th>1stFlrSF</th>\n",
              "      <td>1164.525597</td>\n",
              "      <td>4692.0</td>\n",
              "      <td>334.0</td>\n",
              "      <td>4358.0</td>\n",
              "      <td>389.695465</td>\n",
              "    </tr>\n",
              "    <tr>\n",
              "      <th>TotRmsAbvGrd</th>\n",
              "      <td>6.509386</td>\n",
              "      <td>12.0</td>\n",
              "      <td>2.0</td>\n",
              "      <td>10.0</td>\n",
              "      <td>1.624139</td>\n",
              "    </tr>\n",
              "    <tr>\n",
              "      <th>YearBuilt</th>\n",
              "      <td>1970.789249</td>\n",
              "      <td>2010.0</td>\n",
              "      <td>1872.0</td>\n",
              "      <td>138.0</td>\n",
              "      <td>30.412520</td>\n",
              "    </tr>\n",
              "    <tr>\n",
              "      <th>LotFrontage</th>\n",
              "      <td>69.954918</td>\n",
              "      <td>313.0</td>\n",
              "      <td>21.0</td>\n",
              "      <td>292.0</td>\n",
              "      <td>24.878495</td>\n",
              "    </tr>\n",
              "  </tbody>\n",
              "</table>\n",
              "</div>\n",
              "      <button class=\"colab-df-convert\" onclick=\"convertToInteractive('df-098a668c-1cb4-4cb0-a31b-2747d65b765b')\"\n",
              "              title=\"Convert this dataframe to an interactive table.\"\n",
              "              style=\"display:none;\">\n",
              "        \n",
              "  <svg xmlns=\"http://www.w3.org/2000/svg\" height=\"24px\"viewBox=\"0 0 24 24\"\n",
              "       width=\"24px\">\n",
              "    <path d=\"M0 0h24v24H0V0z\" fill=\"none\"/>\n",
              "    <path d=\"M18.56 5.44l.94 2.06.94-2.06 2.06-.94-2.06-.94-.94-2.06-.94 2.06-2.06.94zm-11 1L8.5 8.5l.94-2.06 2.06-.94-2.06-.94L8.5 2.5l-.94 2.06-2.06.94zm10 10l.94 2.06.94-2.06 2.06-.94-2.06-.94-.94-2.06-.94 2.06-2.06.94z\"/><path d=\"M17.41 7.96l-1.37-1.37c-.4-.4-.92-.59-1.43-.59-.52 0-1.04.2-1.43.59L10.3 9.45l-7.72 7.72c-.78.78-.78 2.05 0 2.83L4 21.41c.39.39.9.59 1.41.59.51 0 1.02-.2 1.41-.59l7.78-7.78 2.81-2.81c.8-.78.8-2.07 0-2.86zM5.41 20L4 18.59l7.72-7.72 1.47 1.35L5.41 20z\"/>\n",
              "  </svg>\n",
              "      </button>\n",
              "      \n",
              "  <style>\n",
              "    .colab-df-container {\n",
              "      display:flex;\n",
              "      flex-wrap:wrap;\n",
              "      gap: 12px;\n",
              "    }\n",
              "\n",
              "    .colab-df-convert {\n",
              "      background-color: #E8F0FE;\n",
              "      border: none;\n",
              "      border-radius: 50%;\n",
              "      cursor: pointer;\n",
              "      display: none;\n",
              "      fill: #1967D2;\n",
              "      height: 32px;\n",
              "      padding: 0 0 0 0;\n",
              "      width: 32px;\n",
              "    }\n",
              "\n",
              "    .colab-df-convert:hover {\n",
              "      background-color: #E2EBFA;\n",
              "      box-shadow: 0px 1px 2px rgba(60, 64, 67, 0.3), 0px 1px 3px 1px rgba(60, 64, 67, 0.15);\n",
              "      fill: #174EA6;\n",
              "    }\n",
              "\n",
              "    [theme=dark] .colab-df-convert {\n",
              "      background-color: #3B4455;\n",
              "      fill: #D2E3FC;\n",
              "    }\n",
              "\n",
              "    [theme=dark] .colab-df-convert:hover {\n",
              "      background-color: #434B5C;\n",
              "      box-shadow: 0px 1px 3px 1px rgba(0, 0, 0, 0.15);\n",
              "      filter: drop-shadow(0px 1px 2px rgba(0, 0, 0, 0.3));\n",
              "      fill: #FFFFFF;\n",
              "    }\n",
              "  </style>\n",
              "\n",
              "      <script>\n",
              "        const buttonEl =\n",
              "          document.querySelector('#df-098a668c-1cb4-4cb0-a31b-2747d65b765b button.colab-df-convert');\n",
              "        buttonEl.style.display =\n",
              "          google.colab.kernel.accessAllowed ? 'block' : 'none';\n",
              "\n",
              "        async function convertToInteractive(key) {\n",
              "          const element = document.querySelector('#df-098a668c-1cb4-4cb0-a31b-2747d65b765b');\n",
              "          const dataTable =\n",
              "            await google.colab.kernel.invokeFunction('convertToInteractive',\n",
              "                                                     [key], {});\n",
              "          if (!dataTable) return;\n",
              "\n",
              "          const docLinkHtml = 'Like what you see? Visit the ' +\n",
              "            '<a target=\"_blank\" href=https://colab.research.google.com/notebooks/data_table.ipynb>data table notebook</a>'\n",
              "            + ' to learn more about interactive tables.';\n",
              "          element.innerHTML = '';\n",
              "          dataTable['output_type'] = 'display_data';\n",
              "          await google.colab.output.renderOutput(dataTable, element);\n",
              "          const docLink = document.createElement('div');\n",
              "          docLink.innerHTML = docLinkHtml;\n",
              "          element.appendChild(docLink);\n",
              "        }\n",
              "      </script>\n",
              "    </div>\n",
              "  </div>\n",
              "  "
            ]
          },
          "metadata": {},
          "execution_count": 35
        }
      ]
    },
    {
      "cell_type": "markdown",
      "source": [
        "#Histogramas de Cada Variable#"
      ],
      "metadata": {
        "id": "FnKjPEiqiONm"
      }
    },
    {
      "cell_type": "markdown",
      "source": [
        "Acá se presentan todos los histogramas de cada variable."
      ],
      "metadata": {
        "id": "x9GnkMEIm_4s"
      }
    },
    {
      "cell_type": "code",
      "source": [
        "sns.distplot(data_train['Sale Price'])"
      ],
      "metadata": {
        "colab": {
          "base_uri": "https://localhost:8080/",
          "height": 362
        },
        "id": "Y39-SMoMiS79",
        "outputId": "abcbebb2-dcfc-4f86-96fb-54213b0d2454"
      },
      "execution_count": 36,
      "outputs": [
        {
          "output_type": "stream",
          "name": "stderr",
          "text": [
            "/usr/local/lib/python3.8/dist-packages/seaborn/distributions.py:2619: FutureWarning: `distplot` is a deprecated function and will be removed in a future version. Please adapt your code to use either `displot` (a figure-level function with similar flexibility) or `histplot` (an axes-level function for histograms).\n",
            "  warnings.warn(msg, FutureWarning)\n"
          ]
        },
        {
          "output_type": "execute_result",
          "data": {
            "text/plain": [
              "<matplotlib.axes._subplots.AxesSubplot at 0x7f6d9cdbe9a0>"
            ]
          },
          "metadata": {},
          "execution_count": 36
        },
        {
          "output_type": "display_data",
          "data": {
            "text/plain": [
              "<Figure size 432x288 with 1 Axes>"
            ],
            "image/png": "[encoded data removed]"
          },
          "metadata": {
            "needs_background": "light"
          }
        }
      ]
    },
    {
      "cell_type": "code",
      "source": [
        "sns.distplot(data_train['Overall-Quality'])"
      ],
      "metadata": {
        "colab": {
          "base_uri": "https://localhost:8080/",
          "height": 351
        },
        "id": "XGXAux_enYcw",
        "outputId": "ac0251a1-8521-47b0-ce3a-9b793cd8328c"
      },
      "execution_count": 37,
      "outputs": [
        {
          "output_type": "stream",
          "name": "stderr",
          "text": [
            "/usr/local/lib/python3.8/dist-packages/seaborn/distributions.py:2619: FutureWarning: `distplot` is a deprecated function and will be removed in a future version. Please adapt your code to use either `displot` (a figure-level function with similar flexibility) or `histplot` (an axes-level function for histograms).\n",
            "  warnings.warn(msg, FutureWarning)\n"
          ]
        },
        {
          "output_type": "execute_result",
          "data": {
            "text/plain": [
              "<matplotlib.axes._subplots.AxesSubplot at 0x7f6d9a9d6be0>"
            ]
          },
          "metadata": {},
          "execution_count": 37
        },
        {
          "output_type": "display_data",
          "data": {
            "text/plain": [
              "<Figure size 432x288 with 1 Axes>"
            ],
            "image/png": "[encoded data removed]"
          },
          "metadata": {
            "needs_background": "light"
          }
        }
      ]
    },
    {
      "cell_type": "code",
      "source": [
        "sns.distplot(data_train['1stFlrSF'])"
      ],
      "metadata": {
        "colab": {
          "base_uri": "https://localhost:8080/",
          "height": 351
        },
        "id": "I0mwwD7qngAU",
        "outputId": "729c1f81-d727-457f-f916-63d44d47f00e"
      },
      "execution_count": 38,
      "outputs": [
        {
          "output_type": "stream",
          "name": "stderr",
          "text": [
            "/usr/local/lib/python3.8/dist-packages/seaborn/distributions.py:2619: FutureWarning: `distplot` is a deprecated function and will be removed in a future version. Please adapt your code to use either `displot` (a figure-level function with similar flexibility) or `histplot` (an axes-level function for histograms).\n",
            "  warnings.warn(msg, FutureWarning)\n"
          ]
        },
        {
          "output_type": "execute_result",
          "data": {
            "text/plain": [
              "<matplotlib.axes._subplots.AxesSubplot at 0x7f6d9a519370>"
            ]
          },
          "metadata": {},
          "execution_count": 38
        },
        {
          "output_type": "display_data",
          "data": {
            "text/plain": [
              "<Figure size 432x288 with 1 Axes>"
            ],
            "image/png": "[encoded data removed]"
          },
          "metadata": {
            "needs_background": "light"
          }
        }
      ]
    },
    {
      "cell_type": "code",
      "source": [
        "sns.distplot(data_train['TotRmsAbvGrd'])"
      ],
      "metadata": {
        "colab": {
          "base_uri": "https://localhost:8080/",
          "height": 351
        },
        "id": "_uBgRicJno-X",
        "outputId": "414bdce1-c9c7-4900-f712-5628052694fc"
      },
      "execution_count": 39,
      "outputs": [
        {
          "output_type": "stream",
          "name": "stderr",
          "text": [
            "/usr/local/lib/python3.8/dist-packages/seaborn/distributions.py:2619: FutureWarning: `distplot` is a deprecated function and will be removed in a future version. Please adapt your code to use either `displot` (a figure-level function with similar flexibility) or `histplot` (an axes-level function for histograms).\n",
            "  warnings.warn(msg, FutureWarning)\n"
          ]
        },
        {
          "output_type": "execute_result",
          "data": {
            "text/plain": [
              "<matplotlib.axes._subplots.AxesSubplot at 0x7f6d9a4077c0>"
            ]
          },
          "metadata": {},
          "execution_count": 39
        },
        {
          "output_type": "display_data",
          "data": {
            "text/plain": [
              "<Figure size 432x288 with 1 Axes>"
            ],
            "image/png": "[encoded data removed]"
          },
          "metadata": {
            "needs_background": "light"
          }
        }
      ]
    },
    {
      "cell_type": "code",
      "source": [
        "sns.distplot(data_train['YearBuilt'])"
      ],
      "metadata": {
        "colab": {
          "base_uri": "https://localhost:8080/",
          "height": 351
        },
        "id": "1poAgNosnzX3",
        "outputId": "82c5de7d-cf38-4ac1-e06f-2e6564f8cf83"
      },
      "execution_count": 40,
      "outputs": [
        {
          "output_type": "stream",
          "name": "stderr",
          "text": [
            "/usr/local/lib/python3.8/dist-packages/seaborn/distributions.py:2619: FutureWarning: `distplot` is a deprecated function and will be removed in a future version. Please adapt your code to use either `displot` (a figure-level function with similar flexibility) or `histplot` (an axes-level function for histograms).\n",
            "  warnings.warn(msg, FutureWarning)\n"
          ]
        },
        {
          "output_type": "execute_result",
          "data": {
            "text/plain": [
              "<matplotlib.axes._subplots.AxesSubplot at 0x7f6d9a3ae910>"
            ]
          },
          "metadata": {},
          "execution_count": 40
        },
        {
          "output_type": "display_data",
          "data": {
            "text/plain": [
              "<Figure size 432x288 with 1 Axes>"
            ],
            "image/png": "[encoded data removed]"
          },
          "metadata": {
            "needs_background": "light"
          }
        }
      ]
    },
    {
      "cell_type": "code",
      "source": [
        "sns.distplot(data_train['LotFrontage'])"
      ],
      "metadata": {
        "colab": {
          "base_uri": "https://localhost:8080/",
          "height": 351
        },
        "id": "rCKstVwnoFTm",
        "outputId": "6c0c4e27-9532-4d72-8931-07e3a01db79b"
      },
      "execution_count": 41,
      "outputs": [
        {
          "output_type": "stream",
          "name": "stderr",
          "text": [
            "/usr/local/lib/python3.8/dist-packages/seaborn/distributions.py:2619: FutureWarning: `distplot` is a deprecated function and will be removed in a future version. Please adapt your code to use either `displot` (a figure-level function with similar flexibility) or `histplot` (an axes-level function for histograms).\n",
            "  warnings.warn(msg, FutureWarning)\n"
          ]
        },
        {
          "output_type": "execute_result",
          "data": {
            "text/plain": [
              "<matplotlib.axes._subplots.AxesSubplot at 0x7f6d9a332370>"
            ]
          },
          "metadata": {},
          "execution_count": 41
        },
        {
          "output_type": "display_data",
          "data": {
            "text/plain": [
              "<Figure size 432x288 with 1 Axes>"
            ],
            "image/png": "[encoded data removed]"
          },
          "metadata": {
            "needs_background": "light"
          }
        }
      ]
    },
    {
      "cell_type": "markdown",
      "source": [
        "#Coeficientes de Correlación y ScatterPlots"
      ],
      "metadata": {
        "id": "LvY0nCbgpDIH"
      }
    },
    {
      "cell_type": "markdown",
      "source": [
        "**-Coeficientes de Correlación entre variables**"
      ],
      "metadata": {
        "id": "KrS6GsEFpRX1"
      }
    },
    {
      "cell_type": "code",
      "source": [
        "sns.heatmap(data_train.corr(),annot=True)\n",
        "plt.show()"
      ],
      "metadata": {
        "colab": {
          "base_uri": "https://localhost:8080/",
          "height": 335
        },
        "id": "7fWMZ-QAeKqx",
        "outputId": "1459e3f2-6d48-4921-cf40-fffc7541ae3f"
      },
      "execution_count": 42,
      "outputs": [
        {
          "output_type": "display_data",
          "data": {
            "text/plain": [
              "<Figure size 432x288 with 2 Axes>"
            ],
            "image/png": "[encoded data removed]"
          },
          "metadata": {
            "needs_background": "light"
          }
        }
      ]
    },
    {
      "cell_type": "markdown",
      "source": [
        "**-Gráficas con MatplotLib**"
      ],
      "metadata": {
        "id": "i6DaaCyfpZyf"
      }
    },
    {
      "cell_type": "code",
      "source": [
        "fig, axes =plt.subplots(2,3)\n",
        "y=data_train['Sale Price']\n",
        "\n",
        "#Tamaño\n",
        "fig.set_figheight(6)\n",
        "fig.set_figwidth(8)\n",
        "\n",
        "#Graficas\n",
        "axes[0,0].scatter(y,y)\n",
        "axes[0,1].scatter(data_train['Overall-Quality'],y)\n",
        "axes[0,2].scatter(data_train[\"1stFlrSF\"],y)\n",
        "axes[1,0].scatter(data_train['TotRmsAbvGrd'],y)\n",
        "axes[1,1].scatter(data_train['YearBuilt'],y)\n",
        "axes[1,2].scatter(data_train['LotFrontage'],y)\n",
        "\n",
        "#Correlaciones\n",
        "axes[0,0].set_title(round(y.corr(y),2))\n",
        "axes[0,1].set_title(round(y.corr(data_train['Overall-Quality']),2))\n",
        "axes[0,2].set_title(round(y.corr(data_train[\"1stFlrSF\"]),2))\n",
        "axes[1,0].set_title(round(y.corr(data_train['TotRmsAbvGrd']),2))\n",
        "axes[1,1].set_title(round(y.corr(data_train['YearBuilt']),2))\n",
        "axes[1,2].set_title(round(y.corr(data_train['LotFrontage']),2))\n",
        "\n",
        "#Etiquetas en Y\n",
        "for i in range(2):\n",
        "  for j in range(3):\n",
        "    axes[i,j].set_ylabel(\"Sale Price\")\n",
        "\n",
        "\n",
        "#Etiquetas en X\n",
        "axes[0,0].set_xlabel(\"Sale Price\")\n",
        "axes[0,1].set_xlabel(\"Overall Quality\")\n",
        "axes[0,2].set_xlabel(\"1stFlrSF\")\n",
        "axes[1,0].set_xlabel('TotRmsAbvGrd')\n",
        "axes[1,1].set_xlabel('YearBuilt')\n",
        "axes[1,2].set_xlabel('LotFrontage')\n",
        "\n",
        "fig.tight_layout()\n",
        "plt.show()"
      ],
      "metadata": {
        "colab": {
          "base_uri": "https://localhost:8080/",
          "height": 441
        },
        "id": "yMpR2TFKpiHD",
        "outputId": "f16748a6-de55-4960-e8d8-fdde5c25b3fc"
      },
      "execution_count": 43,
      "outputs": [
        {
          "output_type": "display_data",
          "data": {
            "text/plain": [
              "<Figure size 576x432 with 6 Axes>"
            ],
            "image/png": "[encoded data removed]"
          },
          "metadata": {
            "needs_background": "light"
          }
        }
      ]
    },
    {
      "cell_type": "markdown",
      "source": [
        "En la gráfica anterior se puede observar que existe mayor correlación para el precio de ventas por parte de las variables **Overall Quality y  First Floor square feet (1stFlrSF:)**  Por lo que se tomarán estas dos variables para nuestros modelos de entrenamiento."
      ],
      "metadata": {
        "id": "34SNkQTq0nKZ"
      }
    },
    {
      "cell_type": "markdown",
      "source": [
        "##Entrenando el Modelo Lineal - Gradient Descent"
      ],
      "metadata": {
        "id": "gR8jpbhvB3gk"
      }
    },
    {
      "cell_type": "markdown",
      "source": [
        "Primero, obtendremos las variables del DataFrame que usaremos para la variable **Overral-Quality**"
      ],
      "metadata": {
        "id": "sRFXubF5B9Jz"
      }
    },
    {
      "cell_type": "markdown",
      "source": [
        "A *x* le agregaré una columna con 1's."
      ],
      "metadata": {
        "id": "lNEvSZOzC0BH"
      }
    },
    {
      "cell_type": "code",
      "source": [
        "y=np.array(data_train['Sale Price'])\n",
        "x=data_train['Overall-Quality']\n",
        "x= np.array([data_train['Overall-Quality'],np.ones(len(x))])\n"
      ],
      "metadata": {
        "colab": {
          "base_uri": "https://localhost:8080/"
        },
        "id": "K-GeLGmBB8Hj",
        "outputId": "03edd6d7-1f48-4d35-de75-7d0a0a295d93"
      },
      "execution_count": 105,
      "outputs": [
        {
          "output_type": "stream",
          "name": "stdout",
          "text": [
            "[208500. 181500. 223500. ... 266500. 142125. 147500.]\n"
          ]
        }
      ]
    },
    {
      "cell_type": "markdown",
      "source": [
        "##Función del Descenso de Gradiente"
      ],
      "metadata": {
        "id": "zm_r6nsFJABr"
      }
    },
    {
      "cell_type": "code",
      "source": [
        "def descenso_gradiente(X,y,beta,alpha,num_iters):\n",
        "  n =len(y)   #Número de elementos en el array\n",
        "  costo_acum =[]\n",
        "\n",
        "  for i in range(num_iters):\n",
        "    y_pred=np.dot(X,beta)\n",
        "    gradient = np.dot(X.T, y_pred -y )/n\n",
        "    #print(gradient)\n",
        "    beta = beta - alpha*gradient\n",
        "    \n",
        "    #Calculando el costo\n",
        "    y_pred= np.dot(X,beta)\n",
        "    costo=np.sum((y_pred-y)**2)/(2*n)\n",
        "    \n",
        "    costo_acum.append(costo)\n",
        "  \n",
        "  return beta, costo_acum\n",
        "\n",
        "\n"
      ],
      "metadata": {
        "id": "BzsT0lZxC7vn"
      },
      "execution_count": 135,
      "outputs": []
    },
    {
      "cell_type": "markdown",
      "source": [
        "Acá entrenaremos el modelo con el algoritmo anterior"
      ],
      "metadata": {
        "id": "q3LqDShiLZHW"
      }
    },
    {
      "cell_type": "code",
      "source": [
        "alpha = 0.15\n",
        "beta = 25\n",
        "epoch=1\n",
        "b0,b1=descenso_gradiente(x,y,beta,alpha,epoch)\n",
        "print(b0[0].sum(),b0[1].sum())"
      ],
      "metadata": {
        "colab": {
          "base_uri": "https://localhost:8080/"
        },
        "id": "WnfloBQpLc4J",
        "outputId": "e7ce154e-c8ca-4edc-bd90-552aaed50ac7"
      },
      "execution_count": 142,
      "outputs": [
        {
          "output_type": "stream",
          "name": "stdout",
          "text": [
            "245037.999274744 218073.13511092152\n"
          ]
        }
      ]
    }
  ]
}